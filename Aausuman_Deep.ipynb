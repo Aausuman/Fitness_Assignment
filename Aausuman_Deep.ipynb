{
 "metadata": {
  "language_info": {
   "codemirror_mode": {
    "name": "ipython",
    "version": 3
   },
   "file_extension": ".py",
   "mimetype": "text/x-python",
   "name": "python",
   "nbconvert_exporter": "python",
   "pygments_lexer": "ipython3",
   "version": "3.8.5-final"
  },
  "orig_nbformat": 2,
  "kernelspec": {
   "name": "Python 3.8.5 64-bit",
   "display_name": "Python 3.8.5 64-bit",
   "metadata": {
    "interpreter": {
     "hash": "082e9a3bcad0a290d0001e938aa60b99250c6c2ef33a923c00b70f9826caf4b7"
    }
   }
  }
 },
 "nbformat": 4,
 "nbformat_minor": 2,
 "cells": [
  {
   "cell_type": "code",
   "execution_count": 119,
   "metadata": {},
   "outputs": [],
   "source": [
    "# Importing relevant libraries\n",
    "import pandas as pd"
   ]
  },
  {
   "cell_type": "code",
   "execution_count": 120,
   "metadata": {},
   "outputs": [],
   "source": [
    "# Creating function for core functionality of booking performance check\n",
    "def performance_check(grouped_booking_data, raw_class_data):\n",
    "    \n",
    "    output_list = []\n",
    "    \n",
    "    # Iterating group wise i.e. for booking data of each class \n",
    "    for name, group in grouped_booking_data:\n",
    "        \n",
    "        # Fetching the capacity and class's name for the group\n",
    "        capacity = raw_class_data.loc[raw_class_data['ClassID'] == name, 'Capacity'].item()\n",
    "        class_name = raw_class_data.loc[raw_class_data['ClassID'] == name, 'ClassName'].item()\n",
    "        \n",
    "        successful_bookings = 0\n",
    "        \n",
    "        # Incrementing successful booking counter whenever the condition is satisfied\n",
    "        for row in group.iterrows():\n",
    "            if row[1][2] == 'BOOKED':\n",
    "                successful_bookings += 1\n",
    "        \n",
    "        performance = successful_bookings/capacity\n",
    "        \n",
    "        # Appending to the output list if performance of this group (i.e. class) is more than 0.7\n",
    "        if performance>0.7:\n",
    "            output_list.append([class_name, performance])\n",
    "    \n",
    "    return output_list"
   ]
  },
  {
   "cell_type": "code",
   "execution_count": 121,
   "metadata": {},
   "outputs": [],
   "source": [
    "# Creating the main function\n",
    "def main():\n",
    "    \n",
    "    # Reading the two csv files\n",
    "    class_data = pd.read_csv(input(\"Enter path for the classes data file\"))\n",
    "    booking_data = pd.read_csv(input(\"Enter path for the bookings data file\"))\n",
    "\n",
    "    # Classifying and grouping the bookings data on the basis of Class ID\n",
    "    grouped_bookings = booking_data.groupby(\"ClassID\")\n",
    "    \n",
    "    # Passing grouped bookings and class data variables into the performance_check function\n",
    "    result_list = performance_check(grouped_bookings, class_data)\n",
    "\n",
    "    print(\"The following classes have a good performance, i.e. booking ratio higher than 0.7\")\n",
    "    \n",
    "    # Displaying the result\n",
    "    for result in result_list:\n",
    "        print(result)        \n"
   ]
  },
  {
   "cell_type": "code",
   "execution_count": 122,
   "metadata": {},
   "outputs": [
    {
     "output_type": "stream",
     "name": "stdout",
     "text": [
      "The following classes have a good performance, i.e. booking ratio higher than 0.7\n['Stretch & Form Session', 0.8]\n['Pilates', 0.8]\n"
     ]
    }
   ],
   "source": [
    "# Calling the main function - execution begins here\n",
    "main()"
   ]
  },
  {
   "cell_type": "code",
   "execution_count": null,
   "metadata": {},
   "outputs": [],
   "source": []
  }
 ]
}