{
 "metadata": {
  "language_info": {
   "codemirror_mode": {
    "name": "ipython",
    "version": 3
   },
   "file_extension": ".py",
   "mimetype": "text/x-python",
   "name": "python",
   "nbconvert_exporter": "python",
   "pygments_lexer": "ipython3",
   "version": "3.8.5-final"
  },
  "orig_nbformat": 2,
  "kernelspec": {
   "name": "Python 3.8.5 64-bit",
   "display_name": "Python 3.8.5 64-bit",
   "metadata": {
    "interpreter": {
     "hash": "082e9a3bcad0a290d0001e938aa60b99250c6c2ef33a923c00b70f9826caf4b7"
    }
   }
  }
 },
 "nbformat": 4,
 "nbformat_minor": 2,
 "cells": [
  {
   "cell_type": "code",
   "execution_count": 2,
   "metadata": {},
   "outputs": [],
   "source": [
    "# Importing relevant libraries\n",
    "import pandas as pd"
   ]
  },
  {
   "cell_type": "code",
   "execution_count": 3,
   "metadata": {},
   "outputs": [],
   "source": [
    "# Creating function to read the data files\n",
    "def read_data(file_path):\n",
    "    data = pd.read_csv(file_path)\n",
    "    return data\n"
   ]
  },
  {
   "cell_type": "code",
   "execution_count": 12,
   "metadata": {},
   "outputs": [],
   "source": [
    "# Main program flow starts here\n",
    "def main():\n",
    "    class_path = input(\"Enter the path for the classes data file\")\n",
    "    class_data = read_data(class_path)\n",
    "\n",
    "    booking_path = input(\"Enter the path for the bookings data file\")\n",
    "    booking_data = read_data(booking_path)\n",
    "\n",
    "    \n"
   ]
  },
  {
   "cell_type": "code",
   "execution_count": 13,
   "metadata": {},
   "outputs": [
    {
     "output_type": "stream",
     "name": "stdout",
     "text": [
      "   1 Stretch & Form Reform  10\n0  2        Reshape 45 min  10\n1  3                  Yoga  10\n2  4               Pilates  10\n    121  2  BOOKED\n0   122  3  FAILED\n1   123  1  BOOKED\n2   124  1  FAILED\n3   125  1  BOOKED\n4   126  1  BOOKED\n5   127  4  FAILED\n6   128  4  BOOKED\n7   129  3  BOOKED\n8   130  2  FAILED\n9   131  2  BOOKED\n10  132  3  FAILED\n11  133  3  BOOKED\n12  134  3  FAILED\n13  135  3  BOOKED\n14  136  2  FAILED\n15  137  2  BOOKED\n16  138  1  FAILED\n17  139  1  FAILED\n18  140  4  FAILED\n19  141  1  BOOKED\n20  142  4  BOOKED\n21  143  1  FAILED\n22  144  4  BOOKED\n23  145  4  FAILED\n24  146  1  BOOKED\n25  147  3  BOOKED\n26  148  3  FAILED\n27  149  2  FAILED\n28  150  2  BOOKED\n"
     ]
    }
   ],
   "source": [
    "main()"
   ]
  },
  {
   "cell_type": "code",
   "execution_count": null,
   "metadata": {},
   "outputs": [],
   "source": []
  }
 ]
}