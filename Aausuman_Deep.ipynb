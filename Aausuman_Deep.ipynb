{
 "metadata": {
  "language_info": {
   "codemirror_mode": {
    "name": "ipython",
    "version": 3
   },
   "file_extension": ".py",
   "mimetype": "text/x-python",
   "name": "python",
   "nbconvert_exporter": "python",
   "pygments_lexer": "ipython3",
   "version": "3.8.5-final"
  },
  "orig_nbformat": 2,
  "kernelspec": {
   "name": "Python 3.8.5 64-bit",
   "display_name": "Python 3.8.5 64-bit",
   "metadata": {
    "interpreter": {
     "hash": "082e9a3bcad0a290d0001e938aa60b99250c6c2ef33a923c00b70f9826caf4b7"
    }
   }
  }
 },
 "nbformat": 4,
 "nbformat_minor": 2,
 "cells": [
  {
   "cell_type": "code",
   "execution_count": 3,
   "metadata": {},
   "outputs": [],
   "source": [
    "# Importing relevant libraries\n",
    "import pandas as pd"
   ]
  },
  {
   "cell_type": "code",
   "execution_count": 4,
   "metadata": {},
   "outputs": [],
   "source": [
    "# Creating function to read the data files\n",
    "def read_data(file_path):\n",
    "    data = pd.read_csv(file_path)\n",
    "    return data\n"
   ]
  },
  {
   "cell_type": "code",
   "execution_count": 67,
   "metadata": {},
   "outputs": [],
   "source": [
    "# Main program flow starts here\n",
    "def main():\n",
    "    class_path = input(\"Enter the path for the classes data file\")\n",
    "    class_data = read_data(class_path)\n",
    "\n",
    "    booking_path = input(\"Enter the path for the bookings data file\")\n",
    "    booking_data = read_data(booking_path)\n",
    "\n",
    "    grouped_bookings = booking_data.groupby(\"ClassID\")\n",
    "    \n",
    "    for name, group in grouped_bookings:\n",
    "        capacity = class_data.loc[class_data['ClassID'] == name, 'Capacity'].item()\n",
    "        class_name = class_data.loc[class_data['ClassID'] == name, 'ClassName'].item()\n",
    "        successful_bookings = 0\n",
    "        for row in group.iterrows():\n",
    "            if row[1][2] == 'BOOKED':\n",
    "                successful_bookings += 1\n",
    "        performance = successful_bookings/capacity\n",
    "        print(\"The booking performance of\", class_name, \"is\", performance)\n",
    "        \n"
   ]
  },
  {
   "cell_type": "code",
   "execution_count": 68,
   "metadata": {},
   "outputs": [
    {
     "output_type": "stream",
     "name": "stdout",
     "text": [
      "The booking performance of Stretch & Form Reform is 0.5\nThe booking performance of Reshape 45 min is 0.4\nThe booking performance of Yoga is 0.4\nThe booking performance of Pilates is 0.3\n"
     ]
    }
   ],
   "source": [
    "main()"
   ]
  },
  {
   "cell_type": "code",
   "execution_count": null,
   "metadata": {},
   "outputs": [],
   "source": []
  }
 ]
}