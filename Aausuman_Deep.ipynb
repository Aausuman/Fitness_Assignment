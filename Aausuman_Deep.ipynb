{
 "metadata": {
  "language_info": {
   "codemirror_mode": {
    "name": "ipython",
    "version": 3
   },
   "file_extension": ".py",
   "mimetype": "text/x-python",
   "name": "python",
   "nbconvert_exporter": "python",
   "pygments_lexer": "ipython3",
   "version": "3.8.5-final"
  },
  "orig_nbformat": 2,
  "kernelspec": {
   "name": "Python 3.8.5 64-bit",
   "display_name": "Python 3.8.5 64-bit",
   "metadata": {
    "interpreter": {
     "hash": "082e9a3bcad0a290d0001e938aa60b99250c6c2ef33a923c00b70f9826caf4b7"
    }
   }
  }
 },
 "nbformat": 4,
 "nbformat_minor": 2,
 "cells": [
  {
   "cell_type": "code",
   "execution_count": 3,
   "metadata": {},
   "outputs": [],
   "source": [
    "# Importing relevant libraries\n",
    "import pandas as pd"
   ]
  },
  {
   "cell_type": "code",
   "execution_count": 4,
   "metadata": {},
   "outputs": [],
   "source": [
    "# Creating function to read the data files\n",
    "def read_data(file_path):\n",
    "    data = pd.read_csv(file_path)\n",
    "    return data\n"
   ]
  },
  {
   "cell_type": "code",
   "execution_count": 9,
   "metadata": {},
   "outputs": [],
   "source": [
    "# Main program flow starts here\n",
    "def main():\n",
    "    class_path = input(\"Enter the path for the classes data file\")\n",
    "    class_data = read_data(class_path)\n",
    "\n",
    "    booking_path = input(\"Enter the path for the bookings data file\")\n",
    "    booking_data = read_data(booking_path)\n",
    "\n",
    "    grouped_bookings = booking_data.groupby(\"ClassID\")\n",
    "    \n",
    "    for group in grouped_bookings:\n",
    "        print(group)\n"
   ]
  },
  {
   "cell_type": "code",
   "execution_count": 10,
   "metadata": {},
   "outputs": [
    {
     "output_type": "stream",
     "name": "stdout",
     "text": [
      "(1,     BookingID  ClassID  Status\n2         123        1  BOOKED\n3         124        1  FAILED\n4         125        1  BOOKED\n5         126        1  BOOKED\n17        138        1  FAILED\n18        139        1  FAILED\n20        141        1  BOOKED\n22        143        1  FAILED\n25        146        1  BOOKED)\n(2,     BookingID  ClassID  Status\n0         121        2  BOOKED\n9         130        2  FAILED\n10        131        2  BOOKED\n15        136        2  FAILED\n16        137        2  BOOKED\n28        149        2  FAILED\n29        150        2  BOOKED)\n(3,     BookingID  ClassID  Status\n1         122        3  FAILED\n8         129        3  BOOKED\n11        132        3  FAILED\n12        133        3  BOOKED\n13        134        3  FAILED\n14        135        3  BOOKED\n26        147        3  BOOKED\n27        148        3  FAILED)\n(4,     BookingID  ClassID  Status\n6         127        4  FAILED\n7         128        4  BOOKED\n19        140        4  FAILED\n21        142        4  BOOKED\n23        144        4  BOOKED\n24        145        4  FAILED)\n"
     ]
    }
   ],
   "source": [
    "main()"
   ]
  },
  {
   "cell_type": "code",
   "execution_count": null,
   "metadata": {},
   "outputs": [],
   "source": []
  }
 ]
}